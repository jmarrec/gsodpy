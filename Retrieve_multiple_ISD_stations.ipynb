{
 "cells": [
  {
   "cell_type": "code",
   "execution_count": null,
   "id": "94d46999",
   "metadata": {},
   "outputs": [],
   "source": [
    "from pygsod.isdhistory import ISDHistory\n",
    "from pygsod.output import GetOneStation\n",
    "from pygsod.utils import FileType, OutputType, sanitize_usaf_wban\n",
    "from pygsod.isdhistory import ISDHistory\n",
    "from pathlib import Path"
   ]
  },
  {
   "cell_type": "code",
   "execution_count": null,
   "id": "0c853f15",
   "metadata": {},
   "outputs": [],
   "source": [
    "isd = ISDHistory('support/isd-history.csv')"
   ]
  },
  {
   "cell_type": "code",
   "execution_count": null,
   "id": "8ba7f336",
   "metadata": {},
   "outputs": [],
   "source": [
    "OUT_DIR = Path('weather_files')"
   ]
  },
  {
   "cell_type": "code",
   "execution_count": null,
   "id": "a95fd36c",
   "metadata": {},
   "outputs": [],
   "source": [
    "with open('weather_files/weather_stations.txt') as f:\n",
    "    usaf_wbans = [line.split(\"#\")[0].strip() for line in f.readlines() if not line.startswith(\"#\")]\n",
    "stations = [sanitize_usaf_wban(x) for x in usaf_wbans]\n",
    "stations"
   ]
  },
  {
   "cell_type": "code",
   "execution_count": null,
   "id": "cea8be87",
   "metadata": {},
   "outputs": [],
   "source": [
    "default_args = {\n",
    "  \"type_of_file\": FileType.Historical,\n",
    "  \"type_of_output\": OutputType.CSV,\n",
    "  \"start_year\": 2020,\n",
    "  \"end_year\": 2023,\n",
    "  \"hdd_threshold\": 65,\n",
    "  \"cdd_threshold\": 65,\n",
    "  \"country\": None,\n",
    "  \"station_name\": None,\n",
    "  \"state\": None,\n",
    "}"
   ]
  },
  {
   "cell_type": "code",
   "execution_count": null,
   "id": "9b825b02",
   "metadata": {},
   "outputs": [],
   "source": [
    "for station in stations:\n",
    "    row = isd.df.loc[station]\n",
    "    args = dict(default_args)\n",
    "    args.update({\n",
    "        \"country\": row['CTRY'],\n",
    "        \"state\": row['STATE'],\n",
    "        \"station_name\": row['STATION NAME']\n",
    "    })\n",
    "    print(args)\n",
    "    s = GetOneStation(**args)\n",
    "    s.get_one_dataframe()\n",
    "    s.df_hourly.to_csv(OUT_DIR / f'{s.filenamestub}-hourly.csv')\n",
    "    s.df_daily.to_csv(OUT_DIR / f'{s.filenamestub}-daily.csv')\n",
    "    s.df_monthly.to_csv(OUT_DIR / f'{s.filenamestub}-monthly.csv')"
   ]
  },
  {
   "cell_type": "code",
   "execution_count": null,
   "id": "e13f02ee",
   "metadata": {},
   "outputs": [],
   "source": [
    "!ls weather_files"
   ]
  }
 ],
 "metadata": {
  "kernelspec": {
   "display_name": "Python 3 (ipykernel)",
   "language": "python",
   "name": "python3"
  },
  "language_info": {
   "codemirror_mode": {
    "name": "ipython",
    "version": 3
   },
   "file_extension": ".py",
   "mimetype": "text/x-python",
   "name": "python",
   "nbconvert_exporter": "python",
   "pygments_lexer": "ipython3",
   "version": "3.9.7"
  },
  "toc": {
   "base_numbering": 1,
   "nav_menu": {},
   "number_sections": true,
   "sideBar": true,
   "skip_h1_title": false,
   "title_cell": "Table of Contents",
   "title_sidebar": "Contents",
   "toc_cell": false,
   "toc_position": {},
   "toc_section_display": true,
   "toc_window_display": false
  }
 },
 "nbformat": 4,
 "nbformat_minor": 5
}
